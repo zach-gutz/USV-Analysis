{
 "cells": [
  {
   "cell_type": "markdown",
   "metadata": {},
   "source": [
    "# Data Wrangling:\n",
    "This notebook imports the call spreadsheets as dataframes, stitches the dataframes together, then adds the sex and stimulation frequency columns. Lastly, it exports the final spreadsheet. <br>*-Directory should be structured accordingly: Detections/Male/1Hz or Detections/Female/50Hz, etc.*<br>*-Errors occur with the forward slash in the DeepSqueak generated column name 'Mean Power (dB/Hz)'. Should eventually rename it.*"
   ]
  },
  {
   "cell_type": "markdown",
   "metadata": {},
   "source": [
    "### Imports, settings, and functions"
   ]
  },
  {
   "cell_type": "code",
   "execution_count": 1,
   "metadata": {},
   "outputs": [],
   "source": [
    "## Install the neccessary imports and check working directory\n",
    "\n",
    "import os\n",
    "import pandas as pd\n",
    "import seaborn as sns"
   ]
  },
  {
   "cell_type": "code",
   "execution_count": 2,
   "metadata": {},
   "outputs": [
    {
     "name": "stdout",
     "output_type": "stream",
     "text": [
      "/Users/zacharygutierrez/A_Drive/StowersLab\n"
     ]
    }
   ],
   "source": [
    "print(os.getcwd())"
   ]
  },
  {
   "cell_type": "code",
   "execution_count": 3,
   "metadata": {},
   "outputs": [
    {
     "data": {
      "text/html": [
       "<style>.container { width:100% !important; }</style>"
      ],
      "text/plain": [
       "<IPython.core.display.HTML object>"
      ]
     },
     "metadata": {},
     "output_type": "display_data"
    }
   ],
   "source": [
    "## Increase the width of all cells for just this notebook\n",
    "\n",
    "from IPython.core.display import display, HTML\n",
    "display(HTML(\"<style>.container { width:100% !important; }</style>\"))"
   ]
  },
  {
   "cell_type": "code",
   "execution_count": 4,
   "metadata": {},
   "outputs": [],
   "source": [
    "## Function for combining spreadsheets within the same directory\n",
    "## NOTE: Arguments must match the directory (e.g. /Male/1Hz -> 'male', '1')\n",
    "\n",
    "def merge_sheets(directory, sex, stimulation_freq):\n",
    "    \"\"\"Combines all spreadsheets within the given\n",
    "       directory and returns them as a dataframe.\"\"\"\n",
    "    \n",
    "    path1 = directory\n",
    "    path2 = sex.capitalize() + '/'\n",
    "    path3 = stimulation_freq + 'Hz'\n",
    "    directory = path1 + path2 + path3\n",
    "    os.chdir(directory)\n",
    "    \n",
    "    df = pd.DataFrame() # start with an empty df, then append\n",
    "    for filename in os.listdir(directory):    \n",
    "        if filename.endswith(\".xlsx\"):\n",
    "            sheet = pd.read_excel(filename)\n",
    "            df = df.append(sheet, ignore_index=True)\n",
    "        else:\n",
    "            continue\n",
    "            \n",
    "    df['Sex'] = sex\n",
    "    df['Stimulation'] = stimulation_freq\n",
    "    return df"
   ]
  },
  {
   "cell_type": "markdown",
   "metadata": {},
   "source": [
    "### Create the male/female call dataframes"
   ]
  },
  {
   "cell_type": "code",
   "execution_count": 5,
   "metadata": {},
   "outputs": [],
   "source": [
    "directory = '/Users/zacharygutierrez/Dropbox (Scripps Research)/Detections/'"
   ]
  },
  {
   "cell_type": "code",
   "execution_count": 6,
   "metadata": {},
   "outputs": [],
   "source": [
    "## Create the call dataframes for 1Hz\n",
    "male_1 = merge_sheets(directory, 'male', '1')\n",
    "female_1 = merge_sheets(directory, 'female', '1')\n",
    "\n",
    "## Create the call dataframes for 5Hz\n",
    "male_5 = merge_sheets(directory, 'male', '5')\n",
    "female_5 = merge_sheets(directory, 'female', '5')\n",
    "\n",
    "## Create the call dataframes for 10Hz\n",
    "male_10 = merge_sheets(directory, 'male', '10')\n",
    "female_10 = merge_sheets(directory, 'female', '10')\n",
    "\n",
    "## Create the call dataframes for 25Hz\n",
    "male_25 = merge_sheets(directory, 'male', '25')\n",
    "female_25 = merge_sheets(directory, 'female', '25')\n",
    "\n",
    "## Create the call dataframes for 50Hz\n",
    "male_50 = merge_sheets(directory, 'male', '50')\n",
    "female_50 = merge_sheets(directory, 'female', '50')"
   ]
  },
  {
   "cell_type": "markdown",
   "metadata": {},
   "source": [
    "### Combine everything"
   ]
  },
  {
   "cell_type": "code",
   "execution_count": 7,
   "metadata": {},
   "outputs": [
    {
     "name": "stdout",
     "output_type": "stream",
     "text": [
      "Male breakdown by stimulation freq:\n",
      "25    1796\n",
      "50    1279\n",
      "10     709\n",
      "5      357\n",
      "1        3\n",
      "Name: Stimulation, dtype: int64 \n",
      "\n",
      "Female breakdown by stimulation freq:\n",
      "50    1295\n",
      "25    1007\n",
      "10     681\n",
      "5      294\n",
      "Name: Stimulation, dtype: int64\n"
     ]
    },
    {
     "data": {
      "text/html": [
       "<div>\n",
       "<style scoped>\n",
       "    .dataframe tbody tr th:only-of-type {\n",
       "        vertical-align: middle;\n",
       "    }\n",
       "\n",
       "    .dataframe tbody tr th {\n",
       "        vertical-align: top;\n",
       "    }\n",
       "\n",
       "    .dataframe thead th {\n",
       "        text-align: right;\n",
       "    }\n",
       "</style>\n",
       "<table border=\"1\" class=\"dataframe\">\n",
       "  <thead>\n",
       "    <tr style=\"text-align: right;\">\n",
       "      <th></th>\n",
       "      <th>ID</th>\n",
       "      <th>Label</th>\n",
       "      <th>Accepted</th>\n",
       "      <th>Score</th>\n",
       "      <th>Begin Time (s)</th>\n",
       "      <th>End Time (s)</th>\n",
       "      <th>Call Length (s)</th>\n",
       "      <th>Principal Frequency (kHz)</th>\n",
       "      <th>Low Freq (kHz)</th>\n",
       "      <th>High Freq (kHz)</th>\n",
       "      <th>Delta Freq (kHz)</th>\n",
       "      <th>Frequency Standard Deviation (kHz)</th>\n",
       "      <th>Slope (kHz/s)</th>\n",
       "      <th>Sinuosity</th>\n",
       "      <th>Mean Power (dB/Hz)</th>\n",
       "      <th>Tonality</th>\n",
       "      <th>Sex</th>\n",
       "      <th>Stimulation</th>\n",
       "    </tr>\n",
       "  </thead>\n",
       "  <tbody>\n",
       "    <tr>\n",
       "      <th>0</th>\n",
       "      <td>1.0</td>\n",
       "      <td>USV</td>\n",
       "      <td>1.0</td>\n",
       "      <td>0.548342</td>\n",
       "      <td>28.025404</td>\n",
       "      <td>28.071404</td>\n",
       "      <td>0.046000</td>\n",
       "      <td>89.188849</td>\n",
       "      <td>83.057687</td>\n",
       "      <td>93.363607</td>\n",
       "      <td>10.305919</td>\n",
       "      <td>3.150801</td>\n",
       "      <td>52.311493</td>\n",
       "      <td>2.081640</td>\n",
       "      <td>-96.681192</td>\n",
       "      <td>0.184402</td>\n",
       "      <td>male</td>\n",
       "      <td>1</td>\n",
       "    </tr>\n",
       "    <tr>\n",
       "      <th>1</th>\n",
       "      <td>2.0</td>\n",
       "      <td>USV</td>\n",
       "      <td>1.0</td>\n",
       "      <td>0.589640</td>\n",
       "      <td>28.706204</td>\n",
       "      <td>28.752604</td>\n",
       "      <td>0.046400</td>\n",
       "      <td>89.713191</td>\n",
       "      <td>80.414176</td>\n",
       "      <td>100.426876</td>\n",
       "      <td>20.012701</td>\n",
       "      <td>5.043053</td>\n",
       "      <td>-195.647868</td>\n",
       "      <td>2.894629</td>\n",
       "      <td>-93.535514</td>\n",
       "      <td>0.183509</td>\n",
       "      <td>male</td>\n",
       "      <td>1</td>\n",
       "    </tr>\n",
       "    <tr>\n",
       "      <th>2</th>\n",
       "      <td>1.0</td>\n",
       "      <td>USV</td>\n",
       "      <td>1.0</td>\n",
       "      <td>0.519729</td>\n",
       "      <td>10.570844</td>\n",
       "      <td>10.620044</td>\n",
       "      <td>0.049200</td>\n",
       "      <td>84.372436</td>\n",
       "      <td>78.156246</td>\n",
       "      <td>95.992606</td>\n",
       "      <td>17.836360</td>\n",
       "      <td>3.810399</td>\n",
       "      <td>30.854385</td>\n",
       "      <td>2.817765</td>\n",
       "      <td>-94.192915</td>\n",
       "      <td>0.189857</td>\n",
       "      <td>male</td>\n",
       "      <td>1</td>\n",
       "    </tr>\n",
       "    <tr>\n",
       "      <th>0</th>\n",
       "      <td>1.0</td>\n",
       "      <td>USV</td>\n",
       "      <td>1.0</td>\n",
       "      <td>0.518870</td>\n",
       "      <td>5.744974</td>\n",
       "      <td>5.769120</td>\n",
       "      <td>0.024146</td>\n",
       "      <td>51.573108</td>\n",
       "      <td>49.577588</td>\n",
       "      <td>51.806874</td>\n",
       "      <td>2.229286</td>\n",
       "      <td>0.682904</td>\n",
       "      <td>75.120984</td>\n",
       "      <td>1.016520</td>\n",
       "      <td>-60.313195</td>\n",
       "      <td>0.545200</td>\n",
       "      <td>male</td>\n",
       "      <td>5</td>\n",
       "    </tr>\n",
       "    <tr>\n",
       "      <th>1</th>\n",
       "      <td>2.0</td>\n",
       "      <td>USV</td>\n",
       "      <td>1.0</td>\n",
       "      <td>0.910543</td>\n",
       "      <td>5.910829</td>\n",
       "      <td>5.926266</td>\n",
       "      <td>0.015437</td>\n",
       "      <td>54.259962</td>\n",
       "      <td>48.055880</td>\n",
       "      <td>60.426938</td>\n",
       "      <td>12.371058</td>\n",
       "      <td>3.520445</td>\n",
       "      <td>-753.507560</td>\n",
       "      <td>1.176979</td>\n",
       "      <td>-66.978746</td>\n",
       "      <td>0.550002</td>\n",
       "      <td>male</td>\n",
       "      <td>5</td>\n",
       "    </tr>\n",
       "  </tbody>\n",
       "</table>\n",
       "</div>"
      ],
      "text/plain": [
       "    ID Label  Accepted     Score  Begin Time (s)  End Time (s)  \\\n",
       "0  1.0   USV       1.0  0.548342       28.025404     28.071404   \n",
       "1  2.0   USV       1.0  0.589640       28.706204     28.752604   \n",
       "2  1.0   USV       1.0  0.519729       10.570844     10.620044   \n",
       "0  1.0   USV       1.0  0.518870        5.744974      5.769120   \n",
       "1  2.0   USV       1.0  0.910543        5.910829      5.926266   \n",
       "\n",
       "   Call Length (s)  Principal Frequency (kHz)  Low Freq (kHz)  \\\n",
       "0         0.046000                  89.188849       83.057687   \n",
       "1         0.046400                  89.713191       80.414176   \n",
       "2         0.049200                  84.372436       78.156246   \n",
       "0         0.024146                  51.573108       49.577588   \n",
       "1         0.015437                  54.259962       48.055880   \n",
       "\n",
       "   High Freq (kHz)  Delta Freq (kHz)  Frequency Standard Deviation (kHz)  \\\n",
       "0        93.363607         10.305919                            3.150801   \n",
       "1       100.426876         20.012701                            5.043053   \n",
       "2        95.992606         17.836360                            3.810399   \n",
       "0        51.806874          2.229286                            0.682904   \n",
       "1        60.426938         12.371058                            3.520445   \n",
       "\n",
       "   Slope (kHz/s)  Sinuosity  Mean Power (dB/Hz)  Tonality   Sex Stimulation  \n",
       "0      52.311493   2.081640          -96.681192  0.184402  male           1  \n",
       "1    -195.647868   2.894629          -93.535514  0.183509  male           1  \n",
       "2      30.854385   2.817765          -94.192915  0.189857  male           1  \n",
       "0      75.120984   1.016520          -60.313195  0.545200  male           5  \n",
       "1    -753.507560   1.176979          -66.978746  0.550002  male           5  "
      ]
     },
     "execution_count": 7,
     "metadata": {},
     "output_type": "execute_result"
    }
   ],
   "source": [
    "## Create a list with all the dataframes\n",
    "## Create a new dataframe by concatenating all in the list\n",
    "\n",
    "male_list = [male_1, male_5, male_10, male_25, male_50]\n",
    "male_df = pd.concat(male_list, sort=False)                # sort kword to suppress warning, keep current behavior...\n",
    "\n",
    "female_list = [female_1, female_5, female_10, female_25, female_50]\n",
    "female_df = pd.concat(female_list, sort=False)            # ...if not, the column order will be changed\n",
    "\n",
    "total_calls = pd.concat([male_df, female_df], sort=False)\n",
    "\n",
    "print('Male breakdown by stimulation freq:')\n",
    "print(male_df['Stimulation'].value_counts(),'\\n')\n",
    "print('Female breakdown by stimulation freq:')\n",
    "print(female_df['Stimulation'].value_counts())\n",
    "total_calls.head()"
   ]
  },
  {
   "cell_type": "code",
   "execution_count": 8,
   "metadata": {},
   "outputs": [
    {
     "name": "stdout",
     "output_type": "stream",
     "text": [
      "4144\n",
      "3277\n",
      "7421\n"
     ]
    }
   ],
   "source": [
    "## Sanity check\n",
    "\n",
    "print(len(male_df))\n",
    "print(len(female_df))\n",
    "print(len(total_calls))\n",
    "\n",
    "assert len(male_df)+len(female_df)==len(total_calls)\n",
    "\n",
    "#sns.heatmap(total_calls.isnull())  # this is a good way to visually check for null values"
   ]
  },
  {
   "cell_type": "code",
   "execution_count": 9,
   "metadata": {},
   "outputs": [],
   "source": [
    "## Create the 'lights_on' and 'lights_off' dataframes by filtering the 'Begin Time (s)' column\n",
    "\n",
    "lights_on = total_calls[(total_calls['Begin Time (s)'] >= 5) & (total_calls['End Time (s)'] <= 10)]\n",
    "lights_off = total_calls[(total_calls['Begin Time (s)'] > 10 )]"
   ]
  },
  {
   "cell_type": "code",
   "execution_count": 10,
   "metadata": {},
   "outputs": [],
   "source": [
    "## Export the dataframes as a spreadsheet\n",
    "\n",
    "os.chdir('/Users/zacharygutierrez/Desktop/catch')\n",
    "\n",
    "total_calls.to_excel(\"total_calls.xlsx\")\n",
    "male_df.to_excel(\"male_df.xlsx\")\n",
    "female_df.to_excel(\"female_df.xlsx\")\n",
    "lights_on.to_excel(\"lights_on.xlsx\") \n",
    "lights_off.to_excel(\"lights_off.xlsx\")"
   ]
  },
  {
   "cell_type": "markdown",
   "metadata": {},
   "source": [
    "# End"
   ]
  }
 ],
 "metadata": {
  "kernelspec": {
   "display_name": "Python 3",
   "language": "python",
   "name": "python3"
  },
  "language_info": {
   "codemirror_mode": {
    "name": "ipython",
    "version": 3
   },
   "file_extension": ".py",
   "mimetype": "text/x-python",
   "name": "python",
   "nbconvert_exporter": "python",
   "pygments_lexer": "ipython3",
   "version": "3.7.0"
  }
 },
 "nbformat": 4,
 "nbformat_minor": 2
}
